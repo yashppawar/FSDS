{
  "nbformat": 4,
  "nbformat_minor": 0,
  "metadata": {
    "colab": {
      "provenance": [],
      "collapsed_sections": [],
      "include_colab_link": true
    },
    "kernelspec": {
      "name": "python3",
      "display_name": "Python 3"
    },
    "language_info": {
      "name": "python"
    }
  },
  "cells": [
    {
      "cell_type": "markdown",
      "metadata": {
        "id": "view-in-github",
        "colab_type": "text"
      },
      "source": [
        "<a href=\"https://colab.research.google.com/github/yashppawar/FSDS/blob/main/assignments/FSDS_bootcamp_assignment_005_Oct_16.ipynb\" target=\"_parent\"><img src=\"https://colab.research.google.com/assets/colab-badge.svg\" alt=\"Open In Colab\"/></a>"
      ]
    },
    {
      "cell_type": "markdown",
      "source": [
        "# ASSIGNMENTS \n",
        "## Send it before 0000 hrs IST or 12 AM Friday\n",
        "\n",
        "## NOTE: Evaluation will be done before next class.\n",
        "\n",
        "## HOW TO SUBMIT: -\n",
        "Download this notebook, Solve it and upload in the google form given in the mail."
      ],
      "metadata": {
        "id": "dkGbTD94s6CD"
      }
    },
    {
      "cell_type": "markdown",
      "source": [
        "# List, Tuple and Sets"
      ],
      "metadata": {
        "id": "n3FuI-mutNl6"
      }
    },
    {
      "cell_type": "markdown",
      "source": [
        "#### 1. On amazon website we have the following available items - \n",
        "\n",
        "```python\n",
        "amazon_website = [(\"watch\", 5000), (\"phone\", 10000), (\"laptop\", 50000), (\"shirt\", 1000)]\n",
        "```\n",
        "Take the user input N no. of times and find out the total cost to be paid?\n",
        "\n",
        "OR\n",
        "\n",
        "You can ask the user quntity or the count of item?\n",
        "\n",
        "if the item is not present in the amazon website then print that item as out of stock and do add it total\n",
        "\n",
        "\n",
        "HINT: while, for loop.. indexing"
      ],
      "metadata": {
        "id": "hZcGNSR2y9zW"
      }
    },
    {
      "cell_type": "code",
      "source": [
        "amazon_website = [(\"watch\", 5000), (\"phone\", 10000), (\"laptop\", 50000), (\"shirt\", 1000)]\n",
        "\n",
        "inp = \"\"\n",
        "cart = []\n",
        "total = 0\n",
        "\n",
        "while inp != \"done\":\n",
        "    inp = input(\"Enter item name: \")\n",
        "    if inp not in [item for item, prize in amazon_website]:\n",
        "        print(\"Out of Stock\")\n",
        "    else:\n",
        "        qty = int(input(\"Enter quantity: \"))\n",
        "        cart.append((inp, qty))\n",
        "\n",
        "print(\"Your Cart: \")\n",
        "for item, qty in cart:\n",
        "    print(f\"{item} -- x{qty}\")\n",
        "    for product in amazon_website:\n",
        "        if product[0] == item:\n",
        "            total += product[1] * qty\n",
        "            break\n",
        "\n",
        "print(f\"Total = {total}\")"
      ],
      "metadata": {
        "id": "iELt1aEzw3jG",
        "outputId": "d448d23e-0964-4ce0-b0a6-dbc897b04156",
        "colab": {
          "base_uri": "https://localhost:8080/"
        }
      },
      "execution_count": 3,
      "outputs": [
        {
          "output_type": "stream",
          "name": "stdout",
          "text": [
            "Enter item name: pizza\n",
            "Out of Stock\n",
            "Enter item name: laptop\n",
            "Enter quantity: 3\n",
            "Enter item name: shirt\n",
            "Enter quantity: 1\n",
            "Enter item name: colab pro\n",
            "Out of Stock\n",
            "Enter item name: watch\n",
            "Enter quantity: 2\n",
            "Enter item name: done\n",
            "Out of Stock\n",
            "Your Cart: \n",
            "laptop -- x3\n",
            "shirt -- x1\n",
            "watch -- x2\n",
            "Total = 161000\n"
          ]
        }
      ]
    },
    {
      "cell_type": "markdown",
      "source": [
        "#### 2. What will be the output of the following code snippet?\n",
        "\n",
        "```\n",
        "arr = [1, 2, 3, 4, 5, 6]\n",
        "for i in range(1, 6):\n",
        "    arr[i - 1] = arr[i]\n",
        "for i in range(0, 6): \n",
        "    print(arr[i], end = \" \")\n",
        "```\n"
      ],
      "metadata": {
        "id": "FQrKC2gzzsUm"
      }
    },
    {
      "cell_type": "code",
      "source": [
        "## Expected Output: 2 3 4 5 6 6\n",
        "\n",
        "arr = [1, 2, 3, 4, 5, 6]\n",
        "for i in range(1, 6):\n",
        "    arr[i - 1] = arr[i]\n",
        "\n",
        "for i in range(0, 6):\n",
        "    print(arr[i], end = \" \")"
      ],
      "metadata": {
        "id": "1is5rj7YumaR",
        "outputId": "3e92e0e0-8470-499d-e2e6-23c8daf972e9",
        "colab": {
          "base_uri": "https://localhost:8080/"
        }
      },
      "execution_count": 1,
      "outputs": [
        {
          "output_type": "stream",
          "name": "stdout",
          "text": [
            "2 3 4 5 6 6 "
          ]
        }
      ]
    },
    {
      "cell_type": "markdown",
      "source": [
        "#### 3. Write a Python program to find the repeated items of a tuple."
      ],
      "metadata": {
        "id": "nL_DZJFS0ZZF"
      }
    },
    {
      "cell_type": "code",
      "source": [
        "tup = (1, 2, 3, 3, 4, 2, 7, 8)\n",
        "duplicates = set()\n",
        "\n",
        "for i, e in enumerate(tup):\n",
        "    for ix, ex in enumerate(tup):\n",
        "        if e == ex and i != ix:\n",
        "            duplicates.add(e)\n",
        "\n",
        "print(duplicates)"
      ],
      "metadata": {
        "id": "1x5yXwwVyi9V",
        "outputId": "49dc248a-dcbb-4f7d-a20a-313c358f1885",
        "colab": {
          "base_uri": "https://localhost:8080/"
        }
      },
      "execution_count": 5,
      "outputs": [
        {
          "output_type": "stream",
          "name": "stdout",
          "text": [
            "{2, 3}\n"
          ]
        }
      ]
    },
    {
      "cell_type": "markdown",
      "source": [
        "### 4. Replace last value of tuples in a list with 500. Try using list comprehension\n",
        "\n",
        "Example -: \n",
        "```\n",
        "Input -:\n",
        "\n",
        "[(10, 20, 40), (40, 50, 60), (70, 80, 90)]\n",
        "\n",
        "Output -:\n",
        "[(10, 20, 500), (40, 50, 500), (70, 80, 500)]\n",
        "\n",
        "\n",
        "```\n"
      ],
      "metadata": {
        "id": "ne8WpLZZ1GSm"
      }
    },
    {
      "cell_type": "code",
      "source": [
        "input_tuples = [(10, 20, 40), (40, 50, 60), (70, 80, 90)]\n",
        "output = [(e[0], e[1], 500) for e in input_tuples]\n",
        "\n",
        "output"
      ],
      "metadata": {
        "id": "YpvH9Di21z-O",
        "outputId": "3a6c5129-1a04-4f80-906c-64868794998e",
        "colab": {
          "base_uri": "https://localhost:8080/"
        }
      },
      "execution_count": 2,
      "outputs": [
        {
          "output_type": "execute_result",
          "data": {
            "text/plain": [
              "[(10, 20, 500), (40, 50, 500), (70, 80, 500)]"
            ]
          },
          "metadata": {},
          "execution_count": 2
        }
      ]
    },
    {
      "cell_type": "markdown",
      "source": [
        "# Thank you\n",
        "Submitted on: 18th October 2022"
      ],
      "metadata": {
        "id": "mbx4uz9Y2bHk"
      }
    }
  ]
}
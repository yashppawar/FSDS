{
  "nbformat": 4,
  "nbformat_minor": 0,
  "metadata": {
    "colab": {
      "provenance": [],
      "collapsed_sections": [],
      "authorship_tag": "ABX9TyNDeY38qASX6SPdCXAnk/z/",
      "include_colab_link": true
    },
    "kernelspec": {
      "name": "python3",
      "display_name": "Python 3"
    },
    "language_info": {
      "name": "python"
    }
  },
  "cells": [
    {
      "cell_type": "markdown",
      "metadata": {
        "id": "view-in-github",
        "colab_type": "text"
      },
      "source": [
        "<a href=\"https://colab.research.google.com/github/yashppawar/FSDS/blob/main/classroom-assignments/Functions_Assignment.ipynb\" target=\"_parent\"><img src=\"https://colab.research.google.com/assets/colab-badge.svg\" alt=\"Open In Colab\"/></a>"
      ]
    },
    {
      "cell_type": "markdown",
      "source": [
        "# Assignment - Functions\n",
        "Full Stack Data Science Bootcamp 2.0 - iNeuron\n",
        "30th - October - 2022\n",
        "\n",
        "---\n",
        "\n",
        "1. write a function which will try to find out len of a string without using an inbuilt len function \n"
      ],
      "metadata": {
        "id": "FGh_FswHEYA0"
      }
    },
    {
      "cell_type": "code",
      "source": [
        "def strlen(string):\n",
        "    length = 0\n",
        "    for _ in string:\n",
        "        length += 1 \n",
        "\n",
        "    return length"
      ],
      "metadata": {
        "id": "mGjQIpKuE0V7"
      },
      "execution_count": 1,
      "outputs": []
    },
    {
      "cell_type": "code",
      "source": [
        "# testing\n",
        "strlen(\"string\")"
      ],
      "metadata": {
        "colab": {
          "base_uri": "https://localhost:8080/"
        },
        "id": "wlUuj6jGE_vn",
        "outputId": "7caeba70-14ff-4943-f0d7-5f87a7a18e5d"
      },
      "execution_count": 2,
      "outputs": [
        {
          "output_type": "execute_result",
          "data": {
            "text/plain": [
              "6"
            ]
          },
          "metadata": {},
          "execution_count": 2
        }
      ]
    },
    {
      "cell_type": "code",
      "source": [
        "strlen(\"hello\")"
      ],
      "metadata": {
        "colab": {
          "base_uri": "https://localhost:8080/"
        },
        "id": "TEoQBzGNFEHQ",
        "outputId": "b9fd1a64-e84d-44c5-d6da-61d7d8eff086"
      },
      "execution_count": 4,
      "outputs": [
        {
          "output_type": "execute_result",
          "data": {
            "text/plain": [
              "5"
            ]
          },
          "metadata": {},
          "execution_count": 4
        }
      ]
    },
    {
      "cell_type": "markdown",
      "source": [
        "2. write a function which  will be able to print an index of list element without using an index function\n"
      ],
      "metadata": {
        "id": "fHMSvm9HE1Ir"
      }
    },
    {
      "cell_type": "code",
      "source": [
        "def get_index(iterable, element):\n",
        "    for idx, e in enumerate(iterable):\n",
        "        if element == e: \n",
        "            return idx\n",
        "\n",
        "    raise Exception(\"Element Not Found\")"
      ],
      "metadata": {
        "id": "BMZMH1jjFJYl"
      },
      "execution_count": 9,
      "outputs": []
    },
    {
      "cell_type": "code",
      "source": [
        "# Testing\n",
        "mylist = [1, 2, 3, 4, 5, 6]\n",
        "mymixedlist = [\"hello\", 3.14, 1.61, 92, True]"
      ],
      "metadata": {
        "id": "5wmSXahLFjj7"
      },
      "execution_count": 6,
      "outputs": []
    },
    {
      "cell_type": "code",
      "source": [
        "get_index(mylist, 3)"
      ],
      "metadata": {
        "colab": {
          "base_uri": "https://localhost:8080/"
        },
        "id": "CNigttGNFvgp",
        "outputId": "78ecca77-bc76-4481-953c-484e2816b47a"
      },
      "execution_count": 7,
      "outputs": [
        {
          "output_type": "execute_result",
          "data": {
            "text/plain": [
              "2"
            ]
          },
          "metadata": {},
          "execution_count": 7
        }
      ]
    },
    {
      "cell_type": "code",
      "source": [
        "get_index(mylist, 18)"
      ],
      "metadata": {
        "colab": {
          "base_uri": "https://localhost:8080/",
          "height": 252
        },
        "id": "OGyTMnUNFy7l",
        "outputId": "dccae4ee-2b58-4363-f6b0-25490db576eb"
      },
      "execution_count": 10,
      "outputs": [
        {
          "output_type": "error",
          "ename": "Exception",
          "evalue": "ignored",
          "traceback": [
            "\u001b[0;31m---------------------------------------------------------------------------\u001b[0m",
            "\u001b[0;31mException\u001b[0m                                 Traceback (most recent call last)",
            "\u001b[0;32m<ipython-input-10-45a9dd7fcecb>\u001b[0m in \u001b[0;36m<module>\u001b[0;34m\u001b[0m\n\u001b[0;32m----> 1\u001b[0;31m \u001b[0mget_index\u001b[0m\u001b[0;34m(\u001b[0m\u001b[0mmylist\u001b[0m\u001b[0;34m,\u001b[0m \u001b[0;36m18\u001b[0m\u001b[0;34m)\u001b[0m\u001b[0;34m\u001b[0m\u001b[0;34m\u001b[0m\u001b[0m\n\u001b[0m",
            "\u001b[0;32m<ipython-input-9-3d908d6d5ec3>\u001b[0m in \u001b[0;36mget_index\u001b[0;34m(iterable, element)\u001b[0m\n\u001b[1;32m      4\u001b[0m             \u001b[0;32mreturn\u001b[0m \u001b[0midx\u001b[0m\u001b[0;34m\u001b[0m\u001b[0;34m\u001b[0m\u001b[0m\n\u001b[1;32m      5\u001b[0m \u001b[0;34m\u001b[0m\u001b[0m\n\u001b[0;32m----> 6\u001b[0;31m     \u001b[0;32mraise\u001b[0m \u001b[0mException\u001b[0m\u001b[0;34m(\u001b[0m\u001b[0;34m\"Element Not Found\"\u001b[0m\u001b[0;34m)\u001b[0m\u001b[0;34m\u001b[0m\u001b[0;34m\u001b[0m\u001b[0m\n\u001b[0m",
            "\u001b[0;31mException\u001b[0m: Element Not Found"
          ]
        }
      ]
    },
    {
      "cell_type": "code",
      "source": [
        "get_index(mymixedlist, True)"
      ],
      "metadata": {
        "colab": {
          "base_uri": "https://localhost:8080/"
        },
        "id": "eFQ2JhIfF2i7",
        "outputId": "8383a707-e021-46c2-de7d-f40c79d52a1f"
      },
      "execution_count": 11,
      "outputs": [
        {
          "output_type": "execute_result",
          "data": {
            "text/plain": [
              "4"
            ]
          },
          "metadata": {},
          "execution_count": 11
        }
      ]
    },
    {
      "cell_type": "markdown",
      "source": [
        "3. write a function which will be able to print an ip address of your system\n"
      ],
      "metadata": {
        "id": "-9oIx2CMFJEj"
      }
    },
    {
      "cell_type": "code",
      "source": [
        "# Using socket"
      ],
      "metadata": {
        "id": "XJQ69tTrGcCq"
      },
      "execution_count": null,
      "outputs": []
    },
    {
      "cell_type": "code",
      "source": [
        "import socket\n",
        "\n",
        "def get_ip():\n",
        "    return socket.gethostbyname(socket.gethostname())\n",
        "\n",
        "get_ip()"
      ],
      "metadata": {
        "colab": {
          "base_uri": "https://localhost:8080/",
          "height": 35
        },
        "id": "M8KyyQRHGe_C",
        "outputId": "fc5746fa-487d-482b-ee5a-b10bf3915316"
      },
      "execution_count": 15,
      "outputs": [
        {
          "output_type": "execute_result",
          "data": {
            "text/plain": [
              "'172.28.0.2'"
            ],
            "application/vnd.google.colaboratory.intrinsic+json": {
              "type": "string"
            }
          },
          "metadata": {},
          "execution_count": 15
        }
      ]
    },
    {
      "cell_type": "markdown",
      "source": [
        "4. write a function which will shutdown your system\n"
      ],
      "metadata": {
        "id": "vol8dNGXGatg"
      }
    },
    {
      "cell_type": "code",
      "source": [
        "import os\n",
        "import platform\n",
        "\n",
        "def shutdown():\n",
        "    if platform.system() == 'Linux':\n",
        "        os.system(\"shutdown -h now\")   # for Linux\n",
        "    elif platform.system() == 'Windows':\n",
        "        os.system(\"shutdown /s /t 1\")  # for Windows\n",
        "    else:\n",
        "        raise Exception(\"Platform Not Supported\")"
      ],
      "metadata": {
        "id": "lI6FLcpjGbZ9"
      },
      "execution_count": null,
      "outputs": []
    },
    {
      "cell_type": "markdown",
      "source": [
        "5. write a function which will take input as a list with any kind of numeric value and give an out as a multiplication of \n",
        "all the numeric data \n",
        "```py\n",
        "l = [3.5, 6.56, 4,5,\"sudh\" , \"ineuron\" , 'fsda bootcamp 2.0']\n",
        "```"
      ],
      "metadata": {
        "id": "GGGuecg9G8jw"
      }
    },
    {
      "cell_type": "code",
      "source": [
        "def multiply_numeric(l):\n",
        "    prod = 1\n",
        "\n",
        "    for e in l:\n",
        "        if (type(e) is int) or (type(e) is float):\n",
        "            prod *= e\n",
        "\n",
        "    return prod\n",
        "\n",
        "l = [3.5, 6.56, 4, 5, \"sudh\", \"ineuron\", 'fsda bootcamp 2.0']\n",
        "multiply_numeric(l)"
      ],
      "metadata": {
        "colab": {
          "base_uri": "https://localhost:8080/"
        },
        "id": "6RJOPuY0G9RD",
        "outputId": "d919679a-b58e-4d6c-a4f5-3ff4b84df22b"
      },
      "execution_count": 16,
      "outputs": [
        {
          "output_type": "execute_result",
          "data": {
            "text/plain": [
              "459.19999999999993"
            ]
          },
          "metadata": {},
          "execution_count": 16
        }
      ]
    },
    {
      "cell_type": "markdown",
      "source": [
        "6. write a function which will be able to read all the mails \n"
      ],
      "metadata": {
        "id": "r7zgzDe2G83k"
      }
    },
    {
      "cell_type": "code",
      "source": [],
      "metadata": {
        "id": "QpdpnNEWHpuk"
      },
      "execution_count": null,
      "outputs": []
    },
    {
      "cell_type": "markdown",
      "source": [
        "7 . write a function which will be able to send a mail to anyone \n"
      ],
      "metadata": {
        "id": "4QDwervjHqAw"
      }
    },
    {
      "cell_type": "code",
      "source": [],
      "metadata": {
        "id": "hrw095w5HrqU"
      },
      "execution_count": null,
      "outputs": []
    },
    {
      "cell_type": "markdown",
      "source": [
        "8. write a function which will be able to read a doc/word file from your system \n",
        "\n"
      ],
      "metadata": {
        "id": "cObz9OvqHsA8"
      }
    },
    {
      "cell_type": "code",
      "source": [],
      "metadata": {
        "id": "tWSN1bPcHvO3"
      },
      "execution_count": null,
      "outputs": []
    },
    {
      "cell_type": "markdown",
      "source": [
        "you are suppose to complete this by oct 30th before your \n",
        "live class and you have to send a solution at mail id - query@ineuron.ai\n",
        "\n",
        "submit your git link to mail "
      ],
      "metadata": {
        "id": "dJHfxEesHvix"
      }
    }
  ]
}